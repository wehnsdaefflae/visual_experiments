{
 "cells": [
  {
   "cell_type": "code",
   "execution_count": null,
   "outputs": [],
   "source": [
    "import itertools\n",
    "import math\n",
    "import random\n",
    "from src.regression import smear"
   ],
   "metadata": {
    "collapsed": false,
    "pycharm": {
     "name": "#%%\n"
    }
   }
  },
  {
   "cell_type": "code",
   "execution_count": null,
   "outputs": [],
   "source": [
    "def product(*values):\n",
    "    output = 1.\n",
    "    for _v in values:\n",
    "        output *= _v\n",
    "    return output"
   ],
   "metadata": {
    "collapsed": false,
    "pycharm": {
     "name": "#%%\n"
    }
   }
  },
  {
   "cell_type": "code",
   "execution_count": null,
   "outputs": [],
   "source": [
    "def over(top, bottom):\n",
    "    return math.factorial(top) / (math.factorial(bottom) * math.factorial(top - bottom))"
   ],
   "metadata": {
    "collapsed": false,
    "pycharm": {
     "name": "#%%\n"
    }
   }
  },
  {
   "cell_type": "code",
   "execution_count": null,
   "outputs": [],
   "source": [
    "def gradient(function, arguments, difference):\n",
    "    g = [0 for _ in arguments]\n",
    "    difference_half = difference / 2.\n",
    "    for i, p in enumerate(arguments):\n",
    "        arguments_lo = [_p if _i != i else (p - difference_half) for _i, _p in enumerate(arguments)]\n",
    "        arguments_hi = [_p if _i != i else (p + difference_half) for _i, _p in enumerate(arguments)]\n",
    "        g[i] = (function(*arguments_hi) - function(*arguments_lo)) / difference\n",
    "    return g"
   ],
   "metadata": {
    "collapsed": false,
    "pycharm": {
     "name": "#%%\n"
    }
   }
  },
  {
   "cell_type": "code",
   "execution_count": null,
   "outputs": [],
   "source": [
    "def polynomial_approximation(parameters_function, degree, arguments_function):\n",
    "    output = parameters_function[0]\n",
    "    output += sum(\n",
    "        parameters_function[_i + 1] * product(*factors) \n",
    "        for _i, factors in enumerate(itertools.combinations_with_replacement(arguments_function, degree))\n",
    "    )\n",
    "    return output\n",
    "    "
   ],
   "metadata": {
    "collapsed": false,
    "pycharm": {
     "name": "#%%\n"
    }
   }
  },
  {
   "cell_type": "code",
   "execution_count": 6,
   "outputs": [],
   "source": [
    "def gradient_descent(function_ext, degree, no_arguments_function=1):\n",
    "    len_p = over(no_arguments_function + degree - 1, degree) + 1\n",
    "    parameters = [0. for _ in range(len_p)]\n",
    "    difference_gradient = .001\n",
    "    alpha = .1\n",
    "    \n",
    "    def get_error(parameters_polynomial, arguments_, target_):\n",
    "        output_ = polynomial_approximation(parameters_polynomial, degree, arguments_)\n",
    "        return target_ - output_\n",
    "    \n",
    "    error_average = 0\n",
    "    iterations = 0\n",
    "    while True:\n",
    "        arguments = [random.random() for _ in range(no_arguments_function)]      \n",
    "        target = function_ext(*arguments)        \n",
    "        step = gradient(lambda x: get_error(x, arguments, target), parameters, difference_gradient)\n",
    "        for _i, (_p, _s) in enumerate(zip(parameters, step)):\n",
    "            parameters[_i] += alpha * _s\n",
    "        \n",
    "        error = get_error(parameters, arguments, target)\n",
    "        error_average = smear(error_average, error, iterations)\n",
    "        iterations += 1\n",
    "        print(f\"average error: {error_average:.2f}\")"
   ],
   "metadata": {
    "collapsed": false,
    "pycharm": {
     "name": "#%%\n",
     "is_executing": false
    }
   }
  },
  {
   "cell_type": "code",
   "execution_count": 8,
   "outputs": [],
   "source": [
    "f = lambda x: 3.2 + -2.7 * x ** 1. + .6 * x ** 2.\n"
   ],
   "metadata": {
    "collapsed": false,
    "pycharm": {
     "name": "#%%\n",
     "is_executing": false
    }
   }
  },
  {
   "cell_type": "code",
   "execution_count": 1,
   "outputs": [
    {
     "traceback": [
      "\u001b[1;31m---------------------------------------------------------------------------\u001b[0m",
      "\u001b[1;31mNameError\u001b[0m                                 Traceback (most recent call last)",
      "\u001b[1;32m<ipython-input-1-7f7f811f2813>\u001b[0m in \u001b[0;36m<module>\u001b[1;34m\u001b[0m\n\u001b[1;32m----> 1\u001b[1;33m \u001b[0mgradient_descent\u001b[0m\u001b[1;33m(\u001b[0m\u001b[0mf\u001b[0m\u001b[1;33m,\u001b[0m \u001b[1;36m2\u001b[0m\u001b[1;33m,\u001b[0m \u001b[0mno_arguments_function\u001b[0m\u001b[1;33m=\u001b[0m\u001b[1;36m1\u001b[0m\u001b[1;33m)\u001b[0m\u001b[1;33m\u001b[0m\u001b[0m\n\u001b[0m\u001b[0;32m      2\u001b[0m \u001b[1;33m\u001b[0m\u001b[0m\n",
      "\u001b[1;31mNameError\u001b[0m: name 'gradient_descent' is not defined"
     ],
     "ename": "NameError",
     "evalue": "name 'gradient_descent' is not defined",
     "output_type": "error"
    }
   ],
   "source": [
    "gradient_descent(f, 2, no_arguments_function=1)"
   ],
   "metadata": {
    "collapsed": false,
    "pycharm": {
     "name": "#%%\n",
     "is_executing": false
    }
   }
  },
  {
   "cell_type": "code",
   "execution_count": null,
   "outputs": [],
   "source": [
    "\n"
   ],
   "metadata": {
    "collapsed": false,
    "pycharm": {
     "name": "#%%\n"
    }
   }
  }
 ],
 "metadata": {
  "kernelspec": {
   "display_name": "Python 3",
   "language": "python",
   "name": "python3"
  },
  "language_info": {
   "codemirror_mode": {
    "name": "ipython",
    "version": 2
   },
   "file_extension": ".py",
   "mimetype": "text/x-python",
   "name": "python",
   "nbconvert_exporter": "python",
   "pygments_lexer": "ipython2",
   "version": "2.7.6"
  },
  "pycharm": {
   "stem_cell": {
    "cell_type": "raw",
    "source": [],
    "metadata": {
     "collapsed": false
    }
   }
  }
 },
 "nbformat": 4,
 "nbformat_minor": 0
}